{
 "cells": [
  {
   "cell_type": "markdown",
   "metadata": {},
   "source": [
    "## Задание № 1"
   ]
  },
  {
   "cell_type": "markdown",
   "metadata": {},
   "source": [
    "1. Переведите содержимое файла purchase_log.txt в словарь purchases вида:\n",
    "\n",
    "```python\n",
    "{'1840e0b9d4': 'Продукты', ...}\n",
    "```\n",
    "   Содержимое purchase_log.txt помещается в оперативную память компьютера"
   ]
  },
  {
   "cell_type": "code",
   "execution_count": 1,
   "metadata": {},
   "outputs": [],
   "source": [
    "def create_file():\n",
    "    f = open('purchase_log.txt', 'r')\n",
    "    content = f.readlines()\n",
    "    length=len(content)\n",
    "    import json\n",
    "    vocabulary = {}\n",
    "    \n",
    "    for line in range(1,length):\n",
    "        content[line]=content[line].strip()\n",
    "        content[line]=json.loads(content[line])\n",
    "        our_list = list(content[line].values())\n",
    "        our_dict = {our_list[0]:our_list[1]}\n",
    "        vocabulary.update(our_dict)\n",
    "    \n",
    "    new_f = open('purchases.txt', 'w')\n",
    "    new_f.write(str(vocabulary))\n",
    "    new_f.close()"
   ]
  },
  {
   "cell_type": "code",
   "execution_count": 2,
   "metadata": {},
   "outputs": [],
   "source": [
    "create_file()"
   ]
  },
  {
   "cell_type": "markdown",
   "metadata": {},
   "source": [
    "## Задание № 2"
   ]
  },
  {
   "cell_type": "markdown",
   "metadata": {},
   "source": [
    "Для каждого user_id в файле visit_log.csv добавьте третий столбец с категорией покупки (если покупка была). Содержимое visit_log.csv - нет; используйте только построчную обработку этого файла\n"
   ]
  },
  {
   "cell_type": "code",
   "execution_count": 9,
   "metadata": {},
   "outputs": [],
   "source": [
    "def create_visit():\n",
    "    f2 = open('visit_log.csv', 'r')\n",
    "    import json\n",
    "    f3 = open('visit.csv', 'w')\n",
    "    N = 20000\n",
    "    content2 = f2.readline()\n",
    "    f3.write(content2)\n",
    "    content2 = f2.readline()\n",
    "    con = content2.strip().split(',')\n",
    "\n",
    "    for x in range(1,N):\n",
    "        f = open('purchase_log.txt', 'r')\n",
    "        content = f.readlines()\n",
    "        length=len(content)\n",
    "        anchor = 0\n",
    "        for line in range(1,length):\n",
    "            content[line]=content[line].strip()\n",
    "            content[line]=json.loads(content[line])\n",
    "            our_list = list(content[line].values())\n",
    "            if con[0] in our_list[0]:\n",
    "                con.append(our_list[1])\n",
    "                f3.write(str(con[0])+','+str(con[1])+','+str(con[2])+'\\n')\n",
    "                content2 = f2.readline()\n",
    "                con = content2.strip().split(',')\n",
    "                anchor = 1\n",
    "        if anchor == 0:\n",
    "            f3.write(str(con[0])+','+str(con[1])+'\\n')\n",
    "            content2 = f2.readline()\n",
    "            con = content2.strip().split(',')\n",
    "    f3.close()           "
   ]
  },
  {
   "cell_type": "code",
   "execution_count": null,
   "metadata": {},
   "outputs": [],
   "source": [
    "create_visit()"
   ]
  },
  {
   "cell_type": "markdown",
   "metadata": {},
   "source": [
    "## Задание № 3"
   ]
  },
  {
   "cell_type": "markdown",
   "metadata": {},
   "source": [
    "Запишите в файл funnel.csv визиты из файла visit_log.csv, в которых были покупки с указанием категории. Содержимое visit_log.csv - нет; используйте только построчную обработку этого файла"
   ]
  },
  {
   "cell_type": "code",
   "execution_count": 7,
   "metadata": {},
   "outputs": [],
   "source": [
    "def create_funnel():\n",
    "    f2 = open('visit_log.csv', 'r')\n",
    "    import json\n",
    "    f3 = open('funnel2.csv', 'w')\n",
    "    N = 20000\n",
    "    content2 = f2.readline()\n",
    "    f3.write(content2)\n",
    "    content2 = f2.readline()\n",
    "    con = content2.strip().split(',')\n",
    "\n",
    "    for x in range(1,N):\n",
    "        f = open('purchase_log.txt', 'r')\n",
    "        content = f.readlines()\n",
    "        length=len(content)\n",
    "        anchor = 0\n",
    "        for line in range(1,length):\n",
    "            content[line]=content[line].strip()\n",
    "            content[line]=json.loads(content[line])\n",
    "            our_list = list(content[line].values())\n",
    "            if con[0] in our_list[0]:\n",
    "                con.append(our_list[1])\n",
    "                f3.write(str(con[0])+','+str(con[1])+','+str(con[2])+'\\n')\n",
    "                content2 = f2.readline()\n",
    "                con = content2.strip().split(',')\n",
    "                anchor = 1\n",
    "        if anchor == 0:\n",
    "            content2 = f2.readline()\n",
    "            con = content2.strip().split(',')\n",
    "    f3.close() "
   ]
  },
  {
   "cell_type": "code",
   "execution_count": 6,
   "metadata": {},
   "outputs": [],
   "source": [
    "create_funnel()"
   ]
  }
 ],
 "metadata": {
  "kernelspec": {
   "display_name": "Python 3",
   "language": "python",
   "name": "python3"
  },
  "language_info": {
   "codemirror_mode": {
    "name": "ipython",
    "version": 3
   },
   "file_extension": ".py",
   "mimetype": "text/x-python",
   "name": "python",
   "nbconvert_exporter": "python",
   "pygments_lexer": "ipython3",
   "version": "3.7.4"
  }
 },
 "nbformat": 4,
 "nbformat_minor": 2
}
